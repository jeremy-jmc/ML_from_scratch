{
 "cells": [
  {
   "cell_type": "code",
   "execution_count": 13,
   "metadata": {},
   "outputs": [
    {
     "data": {
      "text/plain": [
       "'\\nSupervisado\\n\\n    X -> model -> Y\\n    minimice una funcion de error\\n\\n    Clasificacion\\n    Regresion\\n\\nNo Supervisado\\n    X -> model -> patrones en la data\\n\\n    N dimensiones -> PCA, t-SNE\\n\\n    Clustering\\n'"
      ]
     },
     "execution_count": 13,
     "metadata": {},
     "output_type": "execute_result"
    }
   ],
   "source": [
    "\"\"\"\n",
    "Supervisado\n",
    "\n",
    "    X -> model -> Y\n",
    "    minimice una funcion de error\n",
    "\n",
    "    Clasificacion\n",
    "    Regresion\n",
    "\n",
    "No Supervisado\n",
    "    X -> model -> patrones en la data\n",
    "\n",
    "    N dimensiones -> PCA, t-SNE\n",
    "\n",
    "    Clustering\n",
    "\"\"\""
   ]
  },
  {
   "cell_type": "code",
   "execution_count": 14,
   "metadata": {},
   "outputs": [
    {
     "data": {
      "text/plain": [
       "'\\nKMeans\\nDBScan\\nMeanShift\\n'"
      ]
     },
     "execution_count": 14,
     "metadata": {},
     "output_type": "execute_result"
    }
   ],
   "source": [
    "\"\"\"\n",
    "KMeans\n",
    "DBScan\n",
    "MeanShift\n",
    "\"\"\"\n",
    "\n",
    "# https://github.com/jeremy-jmc/IA-P002\n",
    "# https://drive.google.com/drive/u/0/folders/1X3AjOQ2G7NZO3U_0KGYzPXex49vx3Iy-"
   ]
  },
  {
   "cell_type": "code",
   "execution_count": 15,
   "metadata": {},
   "outputs": [],
   "source": [
    "import matplotlib.pyplot as plt\n",
    "import numpy as np\n",
    "import os\n",
    "\n",
    "from PIL import Image"
   ]
  },
  {
   "cell_type": "code",
   "execution_count": 16,
   "metadata": {},
   "outputs": [
    {
     "name": "stdout",
     "output_type": "stream",
     "text": [
      "Max n_jobs supported by your computer: 16\n"
     ]
    }
   ],
   "source": [
    "def get_max_n_jobs():\n",
    "    try:\n",
    "        max_n_jobs = os.cpu_count() or 1  # Use at least 1 if CPU count is not available\n",
    "        return max_n_jobs\n",
    "    except NotImplementedError:\n",
    "        return 1\n",
    "\n",
    "max_n_jobs = get_max_n_jobs()\n",
    "print(\"Max n_jobs supported by your computer:\", max_n_jobs)"
   ]
  },
  {
   "cell_type": "code",
   "execution_count": 17,
   "metadata": {},
   "outputs": [],
   "source": [
    "MAX_ALLOW_NJOBS = 4\n",
    "SEED = 0"
   ]
  },
  {
   "cell_type": "code",
   "execution_count": 47,
   "metadata": {},
   "outputs": [
    {
     "data": {
      "image/png": "[encoded data removed]",
      "text/plain": [
       "<PIL.Image.Image image mode=RGB size=128x128>"
      ]
     },
     "metadata": {},
     "output_type": "display_data"
    },
    {
     "name": "stdout",
     "output_type": "stream",
     "text": [
      "(128, 128, 3)\n",
      "[[[101  99  89]\n",
      "  [ 63  62  56]\n",
      "  [ 63  62  56]\n",
      "  ...\n",
      "  [ 63  62  56]\n",
      "  [ 62  61  55]\n",
      "  [177 176 167]]\n",
      "\n",
      " [[ 60  59  54]\n",
      "  [  0   0   0]\n",
      "  [  0   0   0]\n",
      "  ...\n",
      "  [  0   0   0]\n",
      "  [  0   0   0]\n",
      "  [175 174 166]]\n",
      "\n",
      " [[ 63  62  56]\n",
      "  [  0   0   0]\n",
      "  [  0   0   0]\n",
      "  ...\n",
      "  [  0   0   0]\n",
      "  [  0   0   0]\n",
      "  [175 174 166]]\n",
      "\n",
      " ...\n",
      "\n",
      " [[ 63  62  56]\n",
      "  [  0   0   0]\n",
      "  [  0   0   0]\n",
      "  ...\n",
      "  [  0   0   0]\n",
      "  [  0   0   0]\n",
      "  [175 174 166]]\n",
      "\n",
      " [[ 60  59  53]\n",
      "  [  0   0   0]\n",
      "  [  0   0   0]\n",
      "  ...\n",
      "  [  0   0   0]\n",
      "  [  0   0   0]\n",
      "  [174 173 165]]\n",
      "\n",
      " [[177 175 167]\n",
      "  [176 175 167]\n",
      "  [175 174 166]\n",
      "  ...\n",
      "  [175 174 166]\n",
      "  [175 174 165]\n",
      "  [226 225 216]]]\n"
     ]
    }
   ],
   "source": [
    "# Load the image\n",
    "image = Image.open(\"./data/prueba4.BMP\")\n",
    "\n",
    "# reduce the resolution\n",
    "image = image.resize((128, 128))\n",
    "display(image)\n",
    "\n",
    "image_array = np.array(image)\n",
    "print(image_array.shape)\n",
    "print(image_array)"
   ]
  },
  {
   "cell_type": "code",
   "execution_count": 48,
   "metadata": {},
   "outputs": [
    {
     "name": "stdout",
     "output_type": "stream",
     "text": [
      "(16384, 3)\n",
      "[[101  99  89]\n",
      " [ 63  62  56]\n",
      " [ 63  62  56]\n",
      " ...\n",
      " [175 174 166]\n",
      " [175 174 165]\n",
      " [226 225 216]]\n"
     ]
    }
   ],
   "source": [
    "# Reshape the image array to a 2D array of shape (num_pixels, num_channels)\n",
    "num_pixels = image_array.shape[0] * image_array.shape[1]\n",
    "num_channels = image_array.shape[2]\n",
    "pixels_2d = image_array.reshape(num_pixels, num_channels)\n",
    "print(pixels_2d.shape)\n",
    "print(pixels_2d)"
   ]
  },
  {
   "cell_type": "code",
   "execution_count": 49,
   "metadata": {},
   "outputs": [],
   "source": [
    "# from scipy import stats\n",
    "\n",
    "\n",
    "# fig, axes = plt.subplots(nrows=1, ncols=3, figsize=(20, 5))\n",
    "# for ax, idx in zip(axes, [0, 1, 2]):\n",
    "#     data = pixels_2d[:, idx]\n",
    "#     ax.hist(data, label=f'{idx}', density=True, alpha=.5)\n",
    "#     xx = np.linspace(data.min(), data.max(), 1000)\n",
    "#     kde = stats.gaussian_kde(data)\n",
    "#     ax.plot(xx, kde(xx))\n",
    "#     ax.legend()\n",
    "# plt.show()"
   ]
  },
  {
   "cell_type": "code",
   "execution_count": 50,
   "metadata": {},
   "outputs": [],
   "source": [
    "# from sklearn.preprocessing import MinMaxScaler\n",
    "# normalized = pixels_2d  # MinMaxScaler().fit_transform(pixels_2d)\n",
    "# fig = plt.figure()\n",
    "# ax = fig.add_subplot(projection='3d')\n",
    "\n",
    "# # plot pixels\n",
    "# ax.scatter(xs=normalized[:, 0], ys=normalized[:, 1], zs=normalized[:, 2], marker='o', color='green', alpha=0.2)\n",
    "# ax.view_init(10, 270)\n",
    "# plt.show()"
   ]
  },
  {
   "cell_type": "code",
   "execution_count": 51,
   "metadata": {},
   "outputs": [],
   "source": [
    "# https://towardsdatascience.com/how-to-determine-the-right-number-of-clusters-with-code-d58de36368b1"
   ]
  },
  {
   "cell_type": "code",
   "execution_count": 62,
   "metadata": {},
   "outputs": [],
   "source": [
    "# from sklearn.cluster import DBSCAN\n",
    "\n",
    "# dbscan = DBSCAN(eps=5, min_samples=1000, n_jobs=MAX_ALLOW_NJOBS)\n",
    "\n",
    "# labels = dbscan.fit_predict(pixels_2d)\n",
    "# print(np.unique(labels))"
   ]
  },
  {
   "cell_type": "code",
   "execution_count": 90,
   "metadata": {},
   "outputs": [
    {
     "name": "stdout",
     "output_type": "stream",
     "text": [
      "[0 1 2 3 4 5]\n"
     ]
    }
   ],
   "source": [
    "# from sklearn.cluster import KMeans\n",
    "# kmeans = KMeans(n_clusters=6, random_state=SEED, init=\"k-means++\", n_init=\"auto\")\n",
    "\n",
    "# labels = kmeans.fit_predict(pixels_2d)\n",
    "# print(np.unique(labels))"
   ]
  },
  {
   "cell_type": "code",
   "execution_count": 98,
   "metadata": {},
   "outputs": [
    {
     "name": "stdout",
     "output_type": "stream",
     "text": [
      "[0 1 2 3]\n"
     ]
    }
   ],
   "source": [
    "from sklearn.cluster import MeanShift\n",
    "\n",
    "meanshift = MeanShift(bandwidth=None, n_jobs=MAX_ALLOW_NJOBS)\n",
    "\n",
    "labels = meanshift.fit_predict(pixels_2d)\n",
    "print(np.unique(labels))"
   ]
  },
  {
   "cell_type": "code",
   "execution_count": 99,
   "metadata": {},
   "outputs": [
    {
     "data": {
      "image/png": "[encoded data removed]",
      "text/plain": [
       "<Figure size 640x480 with 1 Axes>"
      ]
     },
     "metadata": {},
     "output_type": "display_data"
    }
   ],
   "source": [
    "# Reshape the labels to match the original image dimensions\n",
    "clustered_labels = labels.reshape(image_array.shape[0], image_array.shape[1])\n",
    "\n",
    "# Visualize the clustered image\n",
    "plt.imshow(clustered_labels, cmap='tab20', interpolation='nearest')\n",
    "plt.axis('off')\n",
    "plt.show()"
   ]
  },
  {
   "cell_type": "markdown",
   "metadata": {},
   "source": [
    "## Silhouette score"
   ]
  },
  {
   "cell_type": "markdown",
   "metadata": {},
   "source": [
    "# algorithms"
   ]
  },
  {
   "cell_type": "code",
   "execution_count": 100,
   "metadata": {},
   "outputs": [],
   "source": [
    "import pandas as pd\n",
    "import numpy as np\n",
    "from scipy.spatial import distance\n",
    "from operator import itemgetter\n",
    "import time\n",
    "from sklearn.neighbors import KDTree\n",
    "\n",
    "class DBScan():\n",
    "\n",
    "    def __init__(self, eps, threshold, m='euclidean'):\n",
    "        self.data = None        # database\n",
    "        self.KDT = None\n",
    "        self.e = eps            # radius\n",
    "        self.t = threshold\n",
    "        self.UNDEFINED = 0\n",
    "        self.NOISE = 1       # minPoints: density treshold\n",
    "\n",
    "        # cluster of i-th training example\n",
    "    \n",
    "    def region_query(self, p):\n",
    "        N = self.KDT.query_radius([p], r=self.e)[0]  \n",
    "        N = [n for n in N if self.label[n] in [self.UNDEFINED, self.NOISE] ]\n",
    "        return np.array(N, dtype=object)\n",
    "\n",
    "    def execute(self, data):\n",
    "        \"\"\"\n",
    "        \n",
    "        param: data\n",
    "        return: label. Lista de clusters para todos los puntos del dataset\n",
    "        \"\"\"\n",
    "        self.data = data       # database\n",
    "        self.KDT = KDTree(data) \n",
    "        self.label = np.array([self.UNDEFINED for _ in range(len(data))])        \n",
    "\n",
    "        c = 1\n",
    "        for i in range(len(self.data)):\n",
    "            label_p = self.label[i]         # label of i-th training example\n",
    "            if label_p != self.UNDEFINED:\n",
    "                continue\n",
    "            # get index of nearest neighbors of i-th trainig example\n",
    "            NN = self.region_query(self.data.iloc[i])\n",
    "            \n",
    "            if len(NN) < self.t:\n",
    "                self.label[i] = self.NOISE\n",
    "                continue\n",
    "            \n",
    "            c += 1\n",
    "            self.label[i] = c\n",
    "            \n",
    "            # S <- N \\ {p}\n",
    "            S = [NN[_] for _ in np.where(NN!=i)[0]]\n",
    "\n",
    "            for q in S:\n",
    "                label_curr = self.label[q]\n",
    "                if label_curr == self.NOISE:\n",
    "                    self.label[q] = c\n",
    "                if label_curr != self.UNDEFINED:\n",
    "                    continue\n",
    "                NE = self.region_query(self.data.iloc[q])\n",
    "                self.label[q] = c\n",
    "                if len(NE) < self.t:\n",
    "                    continue\n",
    "                S += [_ for _ in NE if _ not in S]\n",
    "        return self.label"
   ]
  },
  {
   "cell_type": "code",
   "execution_count": 101,
   "metadata": {},
   "outputs": [],
   "source": [
    "import pandas as pd\n",
    "import numpy as np\n",
    "from scipy.spatial import distance\n",
    "from operator import itemgetter\n",
    "import time\n",
    "\n",
    "# https://www.geeksforgeeks.org/calculate-the-euclidean-distance-using-numpy/\n",
    "def euclidean(x1, x2):\n",
    "    return distance.euclidean(x1, x2)\n",
    "\n",
    "def chebychev(x1, x2):\n",
    "    return distance.chebyshev(x1, x2)\n",
    "\n",
    "def manhattan(x1, x2):\n",
    "    return distance.cityblock(x1, x2)\n",
    "\n",
    "\n",
    "# https://neptune.ai/blog/k-means-clustering\n",
    "def rand_centroids(data, k, distance):\n",
    "    r, c = data.shape\n",
    "    c_idx = np.random.choice(r, k)\n",
    "    return data.iloc[c_idx].to_numpy()\n",
    "\n",
    "\n",
    "def plus_plus(data, k, distance):\n",
    "    centroids = [ data.sample(n=1).to_numpy().tolist()[0] ]\n",
    "    for _ in range(k-1):\n",
    "        new_c = ([],-1)         # centroid, distance to c\n",
    "        for i in range(len(data)):\n",
    "            x_i = data.iloc[i].to_numpy().tolist()\n",
    "            if x_i not in centroids:\n",
    "                d = 0\n",
    "                for c in centroids:\n",
    "                    d += pow(distance(c, x_i), 2)\n",
    "                d /= len(centroids)\n",
    "                new_c = (x_i, d) if new_c[1] < d else new_c\n",
    "        centroids.append(new_c[0])\n",
    "    return np.matrix(centroids)\n",
    "\n",
    "\n",
    "class K_Means():\n",
    "    def __init__(self, n, distance=euclidean, cc=rand_centroids):\n",
    "        self.data = None\n",
    "        self.n = n          # n° centroids\n",
    "        self.K = None\n",
    "        self.d = distance\n",
    "        self.cc = cc        # centroid criteria\n",
    "\n",
    "    def new_centroids(self, idx):\n",
    "        new_K = [[] for _ in self.K]\n",
    "\n",
    "        for i in range(len(self.K)):\n",
    "            # obtener indices de todos los elementos pertenecientes al cluster i de la lista de indeices\n",
    "            idx_curr_cluster = idx[idx['cluster'] == i]['idx'].to_list()\n",
    "            # obtener elementos correspondientes al cluster i\n",
    "            cluster_i_data = self.data.filter(items=idx_curr_cluster, axis = 0)\n",
    "            if cluster_i_data.empty:\n",
    "                new_K[i] = self.K[i]\n",
    "            else:\n",
    "                new_K[i] = cluster_i_data.mean().to_numpy()\n",
    "            \n",
    "        return np.array(new_K, dtype=object)\n",
    "\n",
    "    def label(self):\n",
    "        \"\"\"\n",
    "        DO: Etiqueta cada punto del dataframe \n",
    "        \"\"\"\n",
    "        idx = [\n",
    "                min([(idx, i, self.d(self.K[i], self.data.iloc[idx].to_numpy())) for i in range(len(self.K))], key=itemgetter(2))[:-1] \n",
    "                for idx in range(len(self.data))\n",
    "            ]\n",
    "        return pd.DataFrame(idx, columns=['idx', 'cluster'])  \n",
    "\n",
    "    def execute(self, d):\n",
    "        \"\"\"\n",
    "        param d: Conjunto de datos en formato dataframe\n",
    "        return new_K: Conjunto de labels y ids de clusters\n",
    "        \"\"\"\n",
    "        self.data = d\n",
    "        new_K = self.cc(self.data, self.n, self.d)\n",
    "\n",
    "        i = 0\n",
    "        idx = None\n",
    "        while not (self.K == new_K).all():\n",
    "            self.K = new_K\n",
    "            idx = self.label()\n",
    "            new_K = self.new_centroids(idx)\n",
    "            time.sleep(5)\n",
    "            i += 1\n",
    "        return new_K, idx\n"
   ]
  },
  {
   "cell_type": "markdown",
   "metadata": {},
   "source": [
    "# plotting"
   ]
  },
  {
   "cell_type": "code",
   "execution_count": 102,
   "metadata": {},
   "outputs": [],
   "source": [
    "# # https://github.com/jeremy-jmc/AI_ML_Basic-Platzi/\n",
    "# import random \n",
    "# from bokeh.plotting import figure, output_file, show"
   ]
  },
  {
   "cell_type": "code",
   "execution_count": 103,
   "metadata": {},
   "outputs": [],
   "source": [
    "# POINTS_COLOURS = ['turquoise', 'lime', 'dodgerblue', 'fuchsia', 'lightcoral', 'navajowhite']\n",
    "# CLUSTERS_COLOURS = ['teal', 'green', 'blue', 'purple', 'red', 'goldenrod']\n",
    "\n",
    "# SIZE_COORD = 10         # size of coordinate to graphic\n",
    "# MIN_LIMIT = 1           # minimum limit of coordinates\n",
    "# MAX_LIMIT = 40          # maximum limit of coordinates\n",
    "# NUM_COORDS = 150        # number of coordinates to clustering\n",
    "# NUM_CLUSTERS = 3        # number of clusters to clustering"
   ]
  },
  {
   "cell_type": "code",
   "execution_count": 104,
   "metadata": {},
   "outputs": [],
   "source": [
    "\n",
    "# # generate base coords\n",
    "# def generate_coords(num_coords, mn, mx):\n",
    "#     coords = []\n",
    "#     for i in range(num_coords):\n",
    "#         coords.append((int(random.uniform(mn, mx)), int(random.uniform(mn, mx))))\n",
    "#     return coords \n",
    "\n",
    "# # generate graph in bokeh\n",
    "# def generate_graph(coords, loop, clusters, centers):\n",
    "\n",
    "#     output_file(f\"dispersion {loop}.html\")\n",
    "#     x_coords = [c[0] for c in coords]\n",
    "#     y_coords = [c[1] for c in coords]\n",
    "#     p = figure(title=f\"Dataset {loop}\", x_range=(MIN_LIMIT-1, MAX_LIMIT+1), y_range=(MIN_LIMIT-1, MAX_LIMIT+1))\n",
    "\n",
    "#     if loop>1:      # clusters\n",
    "\n",
    "#         asterisk_x = [c[0] for c in centers]\n",
    "#         asterisk_y = [c[1] for c in centers]\n",
    "\n",
    "        \n",
    "#         for i in range(len(clusters)):\n",
    "#             clusters_x = [c[0] for c in clusters[i]]\n",
    "#             clusters_y = [c[1] for c in clusters[i]]\n",
    "\n",
    "#             p.scatter(clusters_x, clusters_y , color=CLUSTERS_COLOURS[i], alpha=.5, size=SIZE_COORD)\n",
    "#             p.asterisk(asterisk_x[i], asterisk_y[i], color=CLUSTERS_COLOURS[i], size=SIZE_COORD+2)\n",
    "            \n",
    "#     else:    \n",
    "#         p.scatter(x_coords, y_coords, color=\"black\", alpha=.5, size=SIZE_COORD)\n",
    "\n",
    "#     return p\n",
    "\n",
    "# # generate first random centers of clusters\n",
    "# def generate_random_centers(num_clusters, mn, mx):\n",
    "#     c = []\n",
    "#     for i in range(4):\n",
    "#         c.append((int(random.uniform(mn, mx)), int(random.uniform(mn, mx))))\n",
    "#     return c\n",
    "\n",
    "# # calculate euclidean distance\n",
    "# def euclidean_distance(coord1, coord2):\n",
    "#     return ((coord1[0]-coord2[0])**2 + (coord1[1]-coord2[1])**2)*0.5\n",
    "\n",
    "# # generate list of clusters\n",
    "# def k_means(centers, coords):\n",
    "#     clusters = []\n",
    "#     for i in range(len(centers)):\n",
    "#         clusters.append([])\n",
    "    \n",
    "#     for c in coords:\n",
    "#         distances = []\n",
    "#         for i in range(len(centers)):\n",
    "#             d = euclidean_distance(c, centers[i])\n",
    "#             distances.append(d)\n",
    "            \n",
    "#         md = min(distances)\n",
    "#         idx = distances.index(md)\n",
    "\n",
    "#         clusters[idx].append(c)\n",
    "#     return clusters\n",
    "    \n",
    "# # update centers\n",
    "# def update_centers(clusters):\n",
    "#     c = []\n",
    "#     for i in range(len(clusters)):\n",
    "#         x_clus = [c[0] for c in clusters[i]]\n",
    "#         y_clus = [c[1] for c in clusters[i]]\n",
    "        \n",
    "#         x_new_center = sum(x_clus)/len(x_clus)\n",
    "#         y_new_center = sum(y_clus)/len(y_clus)\n",
    "        \n",
    "#         c.append((x_new_center, y_new_center))\n",
    "#     return c\n",
    "\n",
    "# # comparate clusters\n",
    "# def comparate_clusters(previous_cluster, actual_cluster):\n",
    "#     for i in range(len(previous_cluster)):\n",
    "#         if previous_cluster[i][0] != actual_cluster[i][0] or previous_cluster[i][1] != actual_cluster[i][1]:\n",
    "#             return \"distintos\"\n",
    "    \n",
    "#     return \"iguales\""
   ]
  },
  {
   "cell_type": "code",
   "execution_count": 105,
   "metadata": {},
   "outputs": [],
   "source": [
    "# l = 1\n",
    "\n",
    "# # generate coordinates\n",
    "# coords = []\n",
    "# coords = generate_coords(NUM_COORDS, MIN_LIMIT, MAX_LIMIT)\n",
    "# print(\"\\n\\tCoordinates Generated:\\n\",coords)\n",
    "\n",
    "# # plot coordinates\n",
    "# plot = generate_graph(coords, l, None, None)\n",
    "# show(plot)\n",
    "# l+=1\n",
    "\n",
    "# # generate 1st random centers\n",
    "# centers = generate_random_centers(NUM_CLUSTERS, MIN_LIMIT, MAX_LIMIT)\n",
    "# print(\"\\n\\tRandom Centers:\\n\",centers)\n",
    "\n",
    "# # 1st K-Means\n",
    "# ## generate clusters\n",
    "# clusters = k_means(centers, coords)  \n",
    "# print(\"\\n\\tRandom Clusters:\\n\", clusters)\n",
    "\n",
    "# ## plot clusters\n",
    "# plot = generate_graph(coords, l, clusters, centers)\n",
    "# show(plot)\n",
    "\n",
    "# p_cluster = []\n",
    "# for i in range(2, 10):\n",
    "#     centers = update_centers(clusters)\n",
    "#     clusters = k_means(centers, coords)\n",
    "\n",
    "#     plot = generate_graph(coords, i, clusters, centers)        \n",
    "#     show(plot) \n",
    "\n",
    "#     if comparate_clusters(p_cluster, clusters)==\"iguales\" and i>2:\n",
    "#         break\n",
    "#     else: \n",
    "#         p_cluster = clusters\n",
    "        "
   ]
  }
 ],
 "metadata": {
  "kernelspec": {
   "display_name": "base",
   "language": "python",
   "name": "python3"
  },
  "language_info": {
   "codemirror_mode": {
    "name": "ipython",
    "version": 3
   },
   "file_extension": ".py",
   "mimetype": "text/x-python",
   "name": "python",
   "nbconvert_exporter": "python",
   "pygments_lexer": "ipython3",
   "version": "3.10.9"
  },
  "orig_nbformat": 4
 },
 "nbformat": 4,
 "nbformat_minor": 2
}
